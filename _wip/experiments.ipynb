{
 "cells": [
  {
   "cell_type": "code",
   "execution_count": 1,
   "metadata": {},
   "outputs": [],
   "source": [
    "import typing\n",
    "import abc\n",
    "from dataclasses import dataclass, asdict\n",
    "import json"
   ]
  },
  {
   "cell_type": "code",
   "execution_count": 25,
   "metadata": {},
   "outputs": [],
   "source": [
    "@dataclass\n",
    "class ModelConfig(metaclass=abc.ABCMeta):\n",
    "    @classmethod\n",
    "    @abc.abstractclassmethod\n",
    "    def load(cls, obj: dict) -> \"ModelConfig\":\n",
    "        raise NotImplementedError\n",
    "\n",
    "    @abc.abstractmethod\n",
    "    def serialize(self) -> dict:\n",
    "        raise NotImplementedError\n",
    "\n",
    "\n",
    "T_config = typing.TypeVar(\"T_config\", bound=ModelConfig)\n",
    "\n",
    "\n",
    "class ConfiguredModel(\n",
    "    typing.Generic[T_config],\n",
    "    metaclass=abc.ABCMeta,\n",
    "):\n",
    "    config_class: type = None\n",
    "\n",
    "    def __init__(self, config: T_config):\n",
    "        super().__init__()\n",
    "        if self.config_class is None:\n",
    "            raise NotImplementedError(\"you need to set `config_class` for your model\")\n",
    "        if not isinstance(config, self.config_class):\n",
    "            raise TypeError(\n",
    "                f\"config must be an instance of {self.config_class = }, got {type(config) = }\"\n",
    "            )\n",
    "        self.config = config\n",
    "        self.data = \"test data\"\n",
    "\n",
    "    def save(self) -> None:\n",
    "        print(\n",
    "            json.dumps(\n",
    "                dict(\n",
    "                    config=self.config.serialize(),\n",
    "                    data=self.data,\n",
    "                ),\n",
    "                indent=4,\n",
    "            )\n",
    "        )\n",
    "\n",
    "    @classmethod\n",
    "    def load(cls, data: str) -> \"ConfiguredModel\":\n",
    "        obj = json.loads(data)\n",
    "        # get the config class from the type annotation\n",
    "        # print(typing.get_type_hints(cls))\n",
    "        # config_class = typing.get_type_hints(cls)[\"config\"]\n",
    "        # print(config_class, type(config_class))\n",
    "        print(f\"{cls.config_class = } {type(cls.config_class) = }\")\n",
    "        # print(f\"{cls.config.__class__ = } {type(cls.config.__class__) = }\")\n",
    "\n",
    "        # config = config_class(**obj[\"config\"])\n",
    "        # model: \"ConfiguredModel\" = cls(config)\n",
    "        # model.data = obj[\"data\"]\n",
    "        # return model"
   ]
  },
  {
   "cell_type": "code",
   "execution_count": 26,
   "metadata": {},
   "outputs": [],
   "source": [
    "@dataclass\n",
    "class MyConfig(ModelConfig):\n",
    "    \"\"\"basic test GPT config\"\"\"\n",
    "\n",
    "    n_layers: int\n",
    "    n_vocab: int\n",
    "\n",
    "    def serialize(self) -> dict:\n",
    "        return asdict(self)\n",
    "\n",
    "    @classmethod\n",
    "    def load(cls, obj: dict) -> \"MyGPTConfig\":\n",
    "        return cls(**obj)\n",
    "\n",
    "\n",
    "class MyGPT(ConfiguredModel[MyConfig]):\n",
    "    def __init__(self, config: MyConfig):\n",
    "        super().__init__(config)\n",
    "        self.transformer = lambda x: (sum(x), config.n_layers, config.n_vocab)\n",
    "\n",
    "    def forward(self, x):\n",
    "        return self.transformer(x)"
   ]
  },
  {
   "cell_type": "code",
   "execution_count": 27,
   "metadata": {},
   "outputs": [
    {
     "name": "stdout",
     "output_type": "stream",
     "text": [
      "{\n",
      "    \"config\": {\n",
      "        \"n_layers\": 2,\n",
      "        \"n_vocab\": 128\n",
      "    },\n",
      "    \"data\": \"test data\"\n",
      "}\n",
      "cls.config_class = ~T_config type(cls.config_class) = <class 'typing.TypeVar'>\n"
     ]
    }
   ],
   "source": [
    "config: MyConfig = MyConfig(\n",
    "    n_layers=2,\n",
    "    n_vocab=128,\n",
    ")\n",
    "\n",
    "model: MyGPT = MyGPT(config)\n",
    "\n",
    "model.save()\n",
    "\n",
    "model.load(\n",
    "    \"\"\"{\n",
    "    \"config\": {\n",
    "        \"n_layers\": 2,\n",
    "        \"n_vocab\": 128\n",
    "    },\n",
    "    \"data\": \"test data\"\n",
    "}\"\"\"\n",
    ")"
   ]
  }
 ],
 "metadata": {
  "kernelspec": {
   "display_name": "Python 3.10.1 64-bit",
   "language": "python",
   "name": "python3"
  },
  "language_info": {
   "codemirror_mode": {
    "name": "ipython",
    "version": 3
   },
   "file_extension": ".py",
   "mimetype": "text/x-python",
   "name": "python",
   "nbconvert_exporter": "python",
   "pygments_lexer": "ipython3",
   "version": "3.10.1"
  },
  "orig_nbformat": 4,
  "vscode": {
   "interpreter": {
    "hash": "826cdf1d6a1d995932fcc4b02bd7049699ce423053098b308e34496c9b855014"
   }
  }
 },
 "nbformat": 4,
 "nbformat_minor": 2
}
