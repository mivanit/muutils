{
 "cells": [
  {
   "cell_type": "code",
   "execution_count": 1,
   "metadata": {},
   "outputs": [],
   "source": [
    "import typing"
   ]
  },
  {
   "cell_type": "code",
   "execution_count": 2,
   "metadata": {},
   "outputs": [],
   "source": [
    "x = list[str]"
   ]
  },
  {
   "cell_type": "code",
   "execution_count": 3,
   "metadata": {},
   "outputs": [
    {
     "data": {
      "text/plain": [
       "list[str]"
      ]
     },
     "execution_count": 3,
     "metadata": {},
     "output_type": "execute_result"
    }
   ],
   "source": [
    "x"
   ]
  },
  {
   "cell_type": "code",
   "execution_count": 4,
   "metadata": {},
   "outputs": [
    {
     "data": {
      "text/plain": [
       "types.GenericAlias"
      ]
     },
     "execution_count": 4,
     "metadata": {},
     "output_type": "execute_result"
    }
   ],
   "source": [
    "type(x)"
   ]
  },
  {
   "cell_type": "code",
   "execution_count": 5,
   "metadata": {},
   "outputs": [
    {
     "data": {
      "text/plain": [
       "True"
      ]
     },
     "execution_count": 5,
     "metadata": {},
     "output_type": "execute_result"
    }
   ],
   "source": [
    "isinstance(x, typing.GenericAlias)"
   ]
  },
  {
   "cell_type": "code",
   "execution_count": 6,
   "metadata": {},
   "outputs": [],
   "source": [
    "y = str|int"
   ]
  },
  {
   "cell_type": "code",
   "execution_count": 21,
   "metadata": {},
   "outputs": [
    {
     "data": {
      "text/plain": [
       "False"
      ]
     },
     "execution_count": 21,
     "metadata": {},
     "output_type": "execute_result"
    }
   ],
   "source": [
    "isinstance(y, type)"
   ]
  },
  {
   "cell_type": "code",
   "execution_count": 11,
   "metadata": {},
   "outputs": [
    {
     "data": {
      "text/plain": [
       "type"
      ]
     },
     "execution_count": 11,
     "metadata": {},
     "output_type": "execute_result"
    }
   ],
   "source": [
    "type(y.__args__[0])\n"
   ]
  },
  {
   "cell_type": "code",
   "execution_count": 14,
   "metadata": {},
   "outputs": [],
   "source": [
    "from typing import Iterable, Sequence, Type"
   ]
  },
  {
   "cell_type": "code",
   "execution_count": 18,
   "metadata": {},
   "outputs": [
    {
     "data": {
      "text/plain": [
       "False"
      ]
     },
     "execution_count": 18,
     "metadata": {},
     "output_type": "execute_result"
    }
   ],
   "source": [
    "isinstance(list, type(Iterable))"
   ]
  },
  {
   "cell_type": "code",
   "execution_count": 20,
   "metadata": {},
   "outputs": [
    {
     "data": {
      "text/plain": [
       "list[str, int]"
      ]
     },
     "execution_count": 20,
     "metadata": {},
     "output_type": "execute_result"
    }
   ],
   "source": [
    "list[str, int]"
   ]
  },
  {
   "cell_type": "code",
   "execution_count": 22,
   "metadata": {},
   "outputs": [
    {
     "data": {
      "text/plain": [
       "typing.Any"
      ]
     },
     "execution_count": 22,
     "metadata": {},
     "output_type": "execute_result"
    }
   ],
   "source": [
    "typing.Any"
   ]
  },
  {
   "cell_type": "code",
   "execution_count": 78,
   "metadata": {},
   "outputs": [
    {
     "name": "stdout",
     "output_type": "stream",
     "text": [
      "origin = <class 'types.UnionType'> args = (<class 'str'>, <class 'int'>)\n",
      "origin = <class 'types.UnionType'> args = (<class 'str'>, <class 'int'>)\n",
      "origin = <class 'list'> args = (<class 'int'>,)\n",
      "origin = <class 'list'> args = (<class 'str'>,)\n",
      "origin = <class 'set'> args = (<class 'str'>,)\n",
      "origin = <class 'set'> args = (<class 'int'>,)\n"
     ]
    }
   ],
   "source": [
    "from typing import Any, Union\n",
    "from types import UnionType\n",
    "import types\n",
    "\n",
    "def _validate_type(value: Any, expected_type: Any) -> bool:\n",
    "    if expected_type is Any:\n",
    "        return True\n",
    "    \n",
    "    # base type without args\n",
    "    if isinstance(expected_type, type):\n",
    "        return isinstance(value, expected_type)\n",
    "\n",
    "    origin: type = typing.get_origin(expected_type)\n",
    "    args: list = typing.get_args(expected_type)\n",
    "    \n",
    "    print(f\"{origin = } {args = }\")\n",
    "\n",
    "    if origin is types.UnionType:\n",
    "        return any(_validate_type(value, arg) for arg in args)\n",
    "\n",
    "    # generic alias, more complicated\n",
    "    if isinstance(expected_type, (typing.GenericAlias, typing._GenericAlias)):\n",
    "\n",
    "        if origin is list:\n",
    "            assert len(args) == 1\n",
    "            return isinstance(value, list) and all(_validate_type(item, args[0]) for item in value)\n",
    "        \n",
    "        if origin is dict:\n",
    "            assert len(args) == 2\n",
    "            return isinstance(value, dict) and all(\n",
    "                _validate_type(key, args[0]) and _validate_type(val, args[1])\n",
    "                for key, val in value.items()\n",
    "            )\n",
    "        \n",
    "        if origin is set:\n",
    "            assert len(args) == 1\n",
    "            return isinstance(value, set) and all(_validate_type(item, args[0]) for item in value)\n",
    "        \n",
    "        if origin is tuple:\n",
    "            if len(value) != len(args):\n",
    "                return False\n",
    "            return all(_validate_type(item, arg) for item, arg in zip(value, args))\n",
    "        \n",
    "        raise ValueError(f\"Unsupported generic alias {expected_type}\")\n",
    "\n",
    "    else:\n",
    "        raise ValueError(f\"Unsupported type hint {expected_type = } for {value = }\")\n",
    "    \n",
    "assert _validate_type(1, str|int)\n",
    "assert _validate_type(\"a\", str|int)\n",
    "assert _validate_type([1, 2, 3], list[int])\n",
    "assert not _validate_type([1, 2, 3], list[str])\n",
    "assert _validate_type({\"a\", \"b\", \"c\"}, set[str])\n",
    "assert not _validate_type({\"a\", \"b\", 1}, set[int])\n"
   ]
  },
  {
   "cell_type": "code",
   "execution_count": 61,
   "metadata": {},
   "outputs": [
    {
     "data": {
      "text/plain": [
       "str | int"
      ]
     },
     "execution_count": 61,
     "metadata": {},
     "output_type": "execute_result"
    }
   ],
   "source": [
    "y"
   ]
  },
  {
   "cell_type": "code",
   "execution_count": 55,
   "metadata": {},
   "outputs": [],
   "source": [
    "z = list[int]"
   ]
  },
  {
   "cell_type": "code",
   "execution_count": 79,
   "metadata": {},
   "outputs": [],
   "source": [
    "z1 = typing.Union[int, str]"
   ]
  },
  {
   "cell_type": "code",
   "execution_count": 82,
   "metadata": {},
   "outputs": [
    {
     "data": {
      "text/plain": [
       "typing._UnionGenericAlias"
      ]
     },
     "execution_count": 82,
     "metadata": {},
     "output_type": "execute_result"
    }
   ],
   "source": [
    "type(z1)"
   ]
  },
  {
   "cell_type": "code",
   "execution_count": 80,
   "metadata": {},
   "outputs": [
    {
     "data": {
      "text/plain": [
       "typing.Union[int, str]"
      ]
     },
     "execution_count": 80,
     "metadata": {},
     "output_type": "execute_result"
    }
   ],
   "source": [
    "z1"
   ]
  },
  {
   "cell_type": "code",
   "execution_count": 83,
   "metadata": {},
   "outputs": [
    {
     "data": {
      "text/plain": [
       "typing.Union"
      ]
     },
     "execution_count": 83,
     "metadata": {},
     "output_type": "execute_result"
    }
   ],
   "source": [
    "typing.get_origin(z1)"
   ]
  },
  {
   "cell_type": "code",
   "execution_count": 72,
   "metadata": {},
   "outputs": [
    {
     "data": {
      "text/plain": [
       "True"
      ]
     },
     "execution_count": 72,
     "metadata": {},
     "output_type": "execute_result"
    }
   ],
   "source": [
    "isinstance(z1, typing._GenericAlias)"
   ]
  },
  {
   "cell_type": "code",
   "execution_count": 35,
   "metadata": {},
   "outputs": [],
   "source": [
    "y_o = typing.get_origin(y)\n",
    "y_a = typing.get_args(y)"
   ]
  },
  {
   "cell_type": "code",
   "execution_count": 40,
   "metadata": {},
   "outputs": [
    {
     "data": {
      "text/plain": [
       "True"
      ]
     },
     "execution_count": 40,
     "metadata": {},
     "output_type": "execute_result"
    }
   ],
   "source": [
    "import types\n",
    "types.UnionType\n",
    "\n",
    "y_o is types.UnionType"
   ]
  }
 ],
 "metadata": {
  "kernelspec": {
   "display_name": "Python 3",
   "language": "python",
   "name": "python3"
  },
  "language_info": {
   "codemirror_mode": {
    "name": "ipython",
    "version": 3
   },
   "file_extension": ".py",
   "mimetype": "text/x-python",
   "name": "python",
   "nbconvert_exporter": "python",
   "pygments_lexer": "ipython3",
   "version": "3.11.4"
  },
  "orig_nbformat": 4
 },
 "nbformat": 4,
 "nbformat_minor": 2
}
