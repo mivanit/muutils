{
 "cells": [
  {
   "cell_type": "code",
   "execution_count": 1,
   "metadata": {},
   "outputs": [
    {
     "ename": "TypeError",
     "evalue": "'type' object is not subscriptable",
     "output_type": "error",
     "traceback": [
      "\u001b[1;31m---------------------------------------------------------------------------\u001b[0m",
      "\u001b[1;31mTypeError\u001b[0m                                 Traceback (most recent call last)",
      "\u001b[1;32mf:\\projects\\tools\\muutils\\test.ipynb Cell 1\u001b[0m line \u001b[0;36m1\n\u001b[1;32m----> <a href='vscode-notebook-cell:/f%3A/projects/tools/muutils/test.ipynb#W0sZmlsZQ%3D%3D?line=0'>1</a>\u001b[0m x: \u001b[39mdict\u001b[39;49m[\u001b[39mstr\u001b[39;49m,\u001b[39mint\u001b[39;49m]\n",
      "\u001b[1;31mTypeError\u001b[0m: 'type' object is not subscriptable"
     ]
    }
   ],
   "source": [
    "x: dict[str,int]"
   ]
  },
  {
   "cell_type": "code",
   "execution_count": 3,
   "metadata": {},
   "outputs": [],
   "source": [
    "from __future__ import annotations\n",
    "x: dict[str,int]"
   ]
  },
  {
   "cell_type": "code",
   "execution_count": 4,
   "metadata": {},
   "outputs": [],
   "source": [
    "def f(x: dict[str,int]) -> list[str]:\n",
    "    return list(x)"
   ]
  },
  {
   "cell_type": "code",
   "execution_count": 5,
   "metadata": {},
   "outputs": [
    {
     "ename": "TypeError",
     "evalue": "'type' object is not subscriptable",
     "output_type": "error",
     "traceback": [
      "\u001b[1;31m---------------------------------------------------------------------------\u001b[0m",
      "\u001b[1;31mTypeError\u001b[0m                                 Traceback (most recent call last)",
      "\u001b[1;32mf:\\projects\\tools\\muutils\\test.ipynb Cell 4\u001b[0m line \u001b[0;36m2\n\u001b[0;32m      <a href='vscode-notebook-cell:/f%3A/projects/tools/muutils/test.ipynb#W2sZmlsZQ%3D%3D?line=0'>1</a>\u001b[0m \u001b[39mimport\u001b[39;00m \u001b[39mtyping\u001b[39;00m\n\u001b[1;32m----> <a href='vscode-notebook-cell:/f%3A/projects/tools/muutils/test.ipynb#W2sZmlsZQ%3D%3D?line=1'>2</a>\u001b[0m typing\u001b[39m.\u001b[39;49mget_type_hints(f)\n",
      "File \u001b[1;32mc:\\Python\\Python3_8\\lib\\typing.py:1264\u001b[0m, in \u001b[0;36mget_type_hints\u001b[1;34m(obj, globalns, localns)\u001b[0m\n\u001b[0;32m   1262\u001b[0m \u001b[39mif\u001b[39;00m \u001b[39misinstance\u001b[39m(value, \u001b[39mstr\u001b[39m):\n\u001b[0;32m   1263\u001b[0m     value \u001b[39m=\u001b[39m ForwardRef(value)\n\u001b[1;32m-> 1264\u001b[0m value \u001b[39m=\u001b[39m _eval_type(value, globalns, localns)\n\u001b[0;32m   1265\u001b[0m \u001b[39mif\u001b[39;00m name \u001b[39min\u001b[39;00m defaults \u001b[39mand\u001b[39;00m defaults[name] \u001b[39mis\u001b[39;00m \u001b[39mNone\u001b[39;00m:\n\u001b[0;32m   1266\u001b[0m     value \u001b[39m=\u001b[39m Optional[value]\n",
      "File \u001b[1;32mc:\\Python\\Python3_8\\lib\\typing.py:270\u001b[0m, in \u001b[0;36m_eval_type\u001b[1;34m(t, globalns, localns)\u001b[0m\n\u001b[0;32m    266\u001b[0m \u001b[39m\u001b[39m\u001b[39m\"\"\"Evaluate all forward references in the given type t.\u001b[39;00m\n\u001b[0;32m    267\u001b[0m \u001b[39mFor use of globalns and localns see the docstring for get_type_hints().\u001b[39;00m\n\u001b[0;32m    268\u001b[0m \u001b[39m\"\"\"\u001b[39;00m\n\u001b[0;32m    269\u001b[0m \u001b[39mif\u001b[39;00m \u001b[39misinstance\u001b[39m(t, ForwardRef):\n\u001b[1;32m--> 270\u001b[0m     \u001b[39mreturn\u001b[39;00m t\u001b[39m.\u001b[39;49m_evaluate(globalns, localns)\n\u001b[0;32m    271\u001b[0m \u001b[39mif\u001b[39;00m \u001b[39misinstance\u001b[39m(t, _GenericAlias):\n\u001b[0;32m    272\u001b[0m     ev_args \u001b[39m=\u001b[39m \u001b[39mtuple\u001b[39m(_eval_type(a, globalns, localns) \u001b[39mfor\u001b[39;00m a \u001b[39min\u001b[39;00m t\u001b[39m.\u001b[39m__args__)\n",
      "File \u001b[1;32mc:\\Python\\Python3_8\\lib\\typing.py:518\u001b[0m, in \u001b[0;36mForwardRef._evaluate\u001b[1;34m(self, globalns, localns)\u001b[0m\n\u001b[0;32m    515\u001b[0m     \u001b[39melif\u001b[39;00m localns \u001b[39mis\u001b[39;00m \u001b[39mNone\u001b[39;00m:\n\u001b[0;32m    516\u001b[0m         localns \u001b[39m=\u001b[39m globalns\n\u001b[0;32m    517\u001b[0m     \u001b[39mself\u001b[39m\u001b[39m.\u001b[39m__forward_value__ \u001b[39m=\u001b[39m _type_check(\n\u001b[1;32m--> 518\u001b[0m         \u001b[39meval\u001b[39;49m(\u001b[39mself\u001b[39;49m\u001b[39m.\u001b[39;49m__forward_code__, globalns, localns),\n\u001b[0;32m    519\u001b[0m         \u001b[39m\"\u001b[39m\u001b[39mForward references must evaluate to types.\u001b[39m\u001b[39m\"\u001b[39m,\n\u001b[0;32m    520\u001b[0m         is_argument\u001b[39m=\u001b[39m\u001b[39mself\u001b[39m\u001b[39m.\u001b[39m__forward_is_argument__)\n\u001b[0;32m    521\u001b[0m     \u001b[39mself\u001b[39m\u001b[39m.\u001b[39m__forward_evaluated__ \u001b[39m=\u001b[39m \u001b[39mTrue\u001b[39;00m\n\u001b[0;32m    522\u001b[0m \u001b[39mreturn\u001b[39;00m \u001b[39mself\u001b[39m\u001b[39m.\u001b[39m__forward_value__\n",
      "File \u001b[1;32m<string>:1\u001b[0m\n",
      "\u001b[1;31mTypeError\u001b[0m: 'type' object is not subscriptable"
     ]
    }
   ],
   "source": [
    "import typing\n",
    "typing.get_type_hints(f)"
   ]
  },
  {
   "cell_type": "code",
   "execution_count": 6,
   "metadata": {},
   "outputs": [
    {
     "ename": "TypeError",
     "evalue": "'type' object is not subscriptable",
     "output_type": "error",
     "traceback": [
      "\u001b[1;31m---------------------------------------------------------------------------\u001b[0m",
      "\u001b[1;31mTypeError\u001b[0m                                 Traceback (most recent call last)",
      "\u001b[1;32mf:\\projects\\tools\\muutils\\test.ipynb Cell 5\u001b[0m line \u001b[0;36m2\n\u001b[0;32m      <a href='vscode-notebook-cell:/f%3A/projects/tools/muutils/test.ipynb#W4sZmlsZQ%3D%3D?line=0'>1</a>\u001b[0m \u001b[39mimport\u001b[39;00m \u001b[39mtyping_extensions\u001b[39;00m\n\u001b[1;32m----> <a href='vscode-notebook-cell:/f%3A/projects/tools/muutils/test.ipynb#W4sZmlsZQ%3D%3D?line=1'>2</a>\u001b[0m typing_extensions\u001b[39m.\u001b[39;49mget_type_hints(f)\n",
      "File \u001b[1;32mc:\\Python\\Python3_8\\lib\\site-packages\\typing_extensions.py:1272\u001b[0m, in \u001b[0;36mget_type_hints\u001b[1;34m(obj, globalns, localns, include_extras)\u001b[0m\n\u001b[0;32m   1241\u001b[0m \u001b[39mdef\u001b[39;00m \u001b[39mget_type_hints\u001b[39m(obj, globalns\u001b[39m=\u001b[39m\u001b[39mNone\u001b[39;00m, localns\u001b[39m=\u001b[39m\u001b[39mNone\u001b[39;00m, include_extras\u001b[39m=\u001b[39m\u001b[39mFalse\u001b[39;00m):\n\u001b[0;32m   1242\u001b[0m \u001b[39m    \u001b[39m\u001b[39m\"\"\"Return type hints for an object.\u001b[39;00m\n\u001b[0;32m   1243\u001b[0m \n\u001b[0;32m   1244\u001b[0m \u001b[39m    This is often the same as obj.__annotations__, but it handles\u001b[39;00m\n\u001b[1;32m   (...)\u001b[0m\n\u001b[0;32m   1270\u001b[0m \u001b[39m      locals, respectively.\u001b[39;00m\n\u001b[0;32m   1271\u001b[0m \u001b[39m    \"\"\"\u001b[39;00m\n\u001b[1;32m-> 1272\u001b[0m     hint \u001b[39m=\u001b[39m typing\u001b[39m.\u001b[39;49mget_type_hints(obj, globalns\u001b[39m=\u001b[39;49mglobalns, localns\u001b[39m=\u001b[39;49mlocalns)\n\u001b[0;32m   1273\u001b[0m     \u001b[39mif\u001b[39;00m include_extras:\n\u001b[0;32m   1274\u001b[0m         \u001b[39mreturn\u001b[39;00m hint\n",
      "File \u001b[1;32mc:\\Python\\Python3_8\\lib\\typing.py:1264\u001b[0m, in \u001b[0;36mget_type_hints\u001b[1;34m(obj, globalns, localns)\u001b[0m\n\u001b[0;32m   1262\u001b[0m \u001b[39mif\u001b[39;00m \u001b[39misinstance\u001b[39m(value, \u001b[39mstr\u001b[39m):\n\u001b[0;32m   1263\u001b[0m     value \u001b[39m=\u001b[39m ForwardRef(value)\n\u001b[1;32m-> 1264\u001b[0m value \u001b[39m=\u001b[39m _eval_type(value, globalns, localns)\n\u001b[0;32m   1265\u001b[0m \u001b[39mif\u001b[39;00m name \u001b[39min\u001b[39;00m defaults \u001b[39mand\u001b[39;00m defaults[name] \u001b[39mis\u001b[39;00m \u001b[39mNone\u001b[39;00m:\n\u001b[0;32m   1266\u001b[0m     value \u001b[39m=\u001b[39m Optional[value]\n",
      "File \u001b[1;32mc:\\Python\\Python3_8\\lib\\typing.py:270\u001b[0m, in \u001b[0;36m_eval_type\u001b[1;34m(t, globalns, localns)\u001b[0m\n\u001b[0;32m    266\u001b[0m \u001b[39m\u001b[39m\u001b[39m\"\"\"Evaluate all forward references in the given type t.\u001b[39;00m\n\u001b[0;32m    267\u001b[0m \u001b[39mFor use of globalns and localns see the docstring for get_type_hints().\u001b[39;00m\n\u001b[0;32m    268\u001b[0m \u001b[39m\"\"\"\u001b[39;00m\n\u001b[0;32m    269\u001b[0m \u001b[39mif\u001b[39;00m \u001b[39misinstance\u001b[39m(t, ForwardRef):\n\u001b[1;32m--> 270\u001b[0m     \u001b[39mreturn\u001b[39;00m t\u001b[39m.\u001b[39;49m_evaluate(globalns, localns)\n\u001b[0;32m    271\u001b[0m \u001b[39mif\u001b[39;00m \u001b[39misinstance\u001b[39m(t, _GenericAlias):\n\u001b[0;32m    272\u001b[0m     ev_args \u001b[39m=\u001b[39m \u001b[39mtuple\u001b[39m(_eval_type(a, globalns, localns) \u001b[39mfor\u001b[39;00m a \u001b[39min\u001b[39;00m t\u001b[39m.\u001b[39m__args__)\n",
      "File \u001b[1;32mc:\\Python\\Python3_8\\lib\\typing.py:518\u001b[0m, in \u001b[0;36mForwardRef._evaluate\u001b[1;34m(self, globalns, localns)\u001b[0m\n\u001b[0;32m    515\u001b[0m     \u001b[39melif\u001b[39;00m localns \u001b[39mis\u001b[39;00m \u001b[39mNone\u001b[39;00m:\n\u001b[0;32m    516\u001b[0m         localns \u001b[39m=\u001b[39m globalns\n\u001b[0;32m    517\u001b[0m     \u001b[39mself\u001b[39m\u001b[39m.\u001b[39m__forward_value__ \u001b[39m=\u001b[39m _type_check(\n\u001b[1;32m--> 518\u001b[0m         \u001b[39meval\u001b[39;49m(\u001b[39mself\u001b[39;49m\u001b[39m.\u001b[39;49m__forward_code__, globalns, localns),\n\u001b[0;32m    519\u001b[0m         \u001b[39m\"\u001b[39m\u001b[39mForward references must evaluate to types.\u001b[39m\u001b[39m\"\u001b[39m,\n\u001b[0;32m    520\u001b[0m         is_argument\u001b[39m=\u001b[39m\u001b[39mself\u001b[39m\u001b[39m.\u001b[39m__forward_is_argument__)\n\u001b[0;32m    521\u001b[0m     \u001b[39mself\u001b[39m\u001b[39m.\u001b[39m__forward_evaluated__ \u001b[39m=\u001b[39m \u001b[39mTrue\u001b[39;00m\n\u001b[0;32m    522\u001b[0m \u001b[39mreturn\u001b[39;00m \u001b[39mself\u001b[39m\u001b[39m.\u001b[39m__forward_value__\n",
      "File \u001b[1;32m<string>:1\u001b[0m\n",
      "\u001b[1;31mTypeError\u001b[0m: 'type' object is not subscriptable"
     ]
    }
   ],
   "source": [
    "import typing_extensions\n",
    "typing_extensions.get_type_hints(f)"
   ]
  },
  {
   "cell_type": "code",
   "execution_count": 7,
   "metadata": {},
   "outputs": [],
   "source": [
    "from typing import Dict, List\n",
    "\n",
    "def f_t(x: Dict[str,int]) -> List[str]:\n",
    "    return list(x)"
   ]
  },
  {
   "cell_type": "code",
   "execution_count": 9,
   "metadata": {},
   "outputs": [
    {
     "data": {
      "text/plain": [
       "{'x': typing.Dict[str, int], 'return': typing.List[str]}"
      ]
     },
     "execution_count": 9,
     "metadata": {},
     "output_type": "execute_result"
    }
   ],
   "source": [
    "typing.get_type_hints(f_t)"
   ]
  },
  {
   "cell_type": "code",
   "execution_count": 11,
   "metadata": {},
   "outputs": [
    {
     "data": {
      "text/plain": [
       "(Field(name='x',type='typing.Dict[str, int]',default=<dataclasses._MISSING_TYPE object at 0x000002BAEDF147F0>,default_factory=<dataclasses._MISSING_TYPE object at 0x000002BAEDF147F0>,init=True,repr=True,hash=None,compare=True,metadata=mappingproxy({}),_field_type=_FIELD),\n",
       " Field(name='y',type='list[str]',default=<dataclasses._MISSING_TYPE object at 0x000002BAEDF147F0>,default_factory=<dataclasses._MISSING_TYPE object at 0x000002BAEDF147F0>,init=True,repr=True,hash=None,compare=True,metadata=mappingproxy({}),_field_type=_FIELD),\n",
       " Field(name='z',type='str',default=<dataclasses._MISSING_TYPE object at 0x000002BAEDF147F0>,default_factory=<dataclasses._MISSING_TYPE object at 0x000002BAEDF147F0>,init=True,repr=True,hash=None,compare=True,metadata=mappingproxy({}),_field_type=_FIELD))"
      ]
     },
     "execution_count": 11,
     "metadata": {},
     "output_type": "execute_result"
    }
   ],
   "source": [
    "import dataclasses\n",
    "\n",
    "@dataclasses.dataclass\n",
    "class Test:\n",
    "\tx: typing.Dict[str,int]\n",
    "\ty: list[str]\n",
    "\tz: str\n",
    "\n",
    "dataclasses.fields(Test)"
   ]
  },
  {
   "cell_type": "code",
   "execution_count": 1,
   "metadata": {},
   "outputs": [],
   "source": [
    "import pytest\n",
    "import warnings\n",
    "\n",
    "with pytest.warns(UserWarning) as record:\n",
    "\twarnings.warn(\"test\", UserWarning)\n",
    "\twarnings.warn(\"test2\", UserWarning)"
   ]
  },
  {
   "cell_type": "code",
   "execution_count": 17,
   "metadata": {},
   "outputs": [
    {
     "data": {
      "text/plain": [
       "['_WARNING_DETAILS',\n",
       " '__class__',\n",
       " '__delattr__',\n",
       " '__dict__',\n",
       " '__dir__',\n",
       " '__doc__',\n",
       " '__eq__',\n",
       " '__format__',\n",
       " '__ge__',\n",
       " '__getattribute__',\n",
       " '__gt__',\n",
       " '__hash__',\n",
       " '__init__',\n",
       " '__init_subclass__',\n",
       " '__le__',\n",
       " '__lt__',\n",
       " '__module__',\n",
       " '__ne__',\n",
       " '__new__',\n",
       " '__reduce__',\n",
       " '__reduce_ex__',\n",
       " '__repr__',\n",
       " '__setattr__',\n",
       " '__sizeof__',\n",
       " '__str__',\n",
       " '__subclasshook__',\n",
       " '__weakref__',\n",
       " '_category_name',\n",
       " 'category',\n",
       " 'file',\n",
       " 'filename',\n",
       " 'line',\n",
       " 'lineno',\n",
       " 'message',\n",
       " 'source']"
      ]
     },
     "execution_count": 17,
     "metadata": {},
     "output_type": "execute_result"
    }
   ],
   "source": [
    "dir(record[0])\n"
   ]
  },
  {
   "cell_type": "code",
   "execution_count": 15,
   "metadata": {},
   "outputs": [
    {
     "data": {
      "text/plain": [
       "UserWarning('test')"
      ]
     },
     "execution_count": 15,
     "metadata": {},
     "output_type": "execute_result"
    }
   ],
   "source": [
    "record[0].message"
   ]
  }
 ],
 "metadata": {
  "kernelspec": {
   "display_name": "Python 3",
   "language": "python",
   "name": "python3"
  },
  "language_info": {
   "codemirror_mode": {
    "name": "ipython",
    "version": 3
   },
   "file_extension": ".py",
   "mimetype": "text/x-python",
   "name": "python",
   "nbconvert_exporter": "python",
   "pygments_lexer": "ipython3",
   "version": "3.8.10"
  },
  "orig_nbformat": 4
 },
 "nbformat": 4,
 "nbformat_minor": 2
}
